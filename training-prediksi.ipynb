{
 "cells": [
  {
   "cell_type": "code",
   "execution_count": 1,
   "metadata": {},
   "outputs": [],
   "source": [
    "import os\n",
    "# os.environ[\"CUDA_VISIBLE_DEVICES\"] = \"-1\" # hanya diperlukan untuk disable GPU\n",
    "\n",
    "import tensorflow as tf  \n",
    "import tensorflow.keras as keras  # pakai Keras dari tensorflow\n",
    "import os  \n",
    "from tensorflow.keras.layers import Flatten, Dense, AveragePooling2D, GlobalAveragePooling2D  \n",
    "from tensorflow.keras.models import Model  \n",
    "from tensorflow.keras.optimizers import RMSprop, SGD  \n",
    "from tensorflow.keras.callbacks import ModelCheckpoint  \n",
    "from tensorflow.keras.callbacks import EarlyStopping  \n",
    "from tensorflow.keras.preprocessing.image import ImageDataGenerator  \n",
    "from tensorflow.keras.callbacks import CSVLogger  \n",
    "from tensorflow.keras.layers import BatchNormalization  \n",
    "from tensorflow.keras.models import load_model  \n",
    "import numpy as np  \n",
    "from pathlib import Path  \n",
    "import shutil  "
   ]
  },
  {
   "cell_type": "code",
   "execution_count": 2,
   "metadata": {},
   "outputs": [
    {
     "output_type": "execute_result",
     "data": {
      "text/plain": "[]"
     },
     "metadata": {},
     "execution_count": 2
    }
   ],
   "source": [
    "tf.config.list_physical_devices('GPU') # daftar GPU tersedia\n",
    ""
   ]
  },
  {
   "cell_type": "code",
   "execution_count": 3,
   "metadata": {},
   "outputs": [
    {
     "output_type": "execute_result",
     "data": {
      "text/plain": "[PhysicalDevice(name='/physical_device:CPU:0', device_type='CPU')]"
     },
     "metadata": {},
     "execution_count": 3
    }
   ],
   "source": [
    "tf.config.list_physical_devices('CPU') # daftar CPU tersedia\n",
    ""
   ]
  },
  {
   "cell_type": "code",
   "execution_count": 4,
   "metadata": {},
   "outputs": [
    {
     "output_type": "stream",
     "name": "stdout",
     "text": "Tensorflow version: 2.1.0\n"
    }
   ],
   "source": [
    "print(\"Tensorflow version: \"+tf.__version__) # cek versi Tensorflow"
   ]
  },
  {
   "cell_type": "code",
   "execution_count": 5,
   "metadata": {},
   "outputs": [
    {
     "output_type": "stream",
     "name": "stdout",
     "text": "sesi-01/train/Black-grass\nsesi-01/valid/Black-grass\nsesi-01/train/Charlock\nsesi-01/valid/Charlock\nsesi-01/train/Cleavers\nsesi-01/valid/Cleavers\nsesi-01/train/Common Chickweed\nsesi-01/valid/Common Chickweed\nsesi-01/train/Common wheat\nsesi-01/valid/Common wheat\nsesi-01/train/Fat Hen\nsesi-01/valid/Fat Hen\nsesi-01/train/Loose Silky-bent\nsesi-01/valid/Loose Silky-bent\nsesi-01/train/Maize\nsesi-01/valid/Maize\nsesi-01/train/Scentless Mayweed\nsesi-01/valid/Scentless Mayweed\nsesi-01/train/Shepherds Purse\nsesi-01/valid/Shepherds Purse\nsesi-01/train/Small-flowered Cranesbill\nsesi-01/valid/Small-flowered Cranesbill\nsesi-01/train/Sugar beet\nsesi-01/valid/Sugar beet\n"
    }
   ],
   "source": [
    " #making training & validation directories  \n",
    " import pathlib  \n",
    " session='sesi-01'  \n",
    " classnames=['Black-grass','Charlock','Cleavers','Common Chickweed','Common wheat','Fat Hen','Loose Silky-bent','Maize','Scentless Mayweed','Shepherds Purse','Small-flowered Cranesbill','Sugar beet']  \n",
    " train_dir=session+\"/train\"  \n",
    " valid_dir=session+\"/valid\"  \n",
    " for dirname in classnames:  \n",
    " #  print(dirname)  \n",
    "   fulldirname=train_dir+'/'+dirname    \n",
    "   print(fulldirname)  \n",
    "   pathlib.Path(fulldirname).mkdir(parents=True, exist_ok=True)  \n",
    "   fulldirname=valid_dir+'/'+dirname    \n",
    "   print(fulldirname)  \n",
    "   pathlib.Path(fulldirname).mkdir(parents=True, exist_ok=True)  "
   ]
  },
  {
   "cell_type": "code",
   "execution_count": 6,
   "metadata": {
    "tags": [
     "outputPrepend",
     "outputPrepend",
     "outputPrepend",
     "outputPrepend",
     "outputPrepend",
     "outputPrepend",
     "outputPrepend",
     "outputPrepend",
     "outputPrepend",
     "outputPrepend",
     "outputPrepend",
     "outputPrepend",
     "outputPrepend",
     "outputPrepend",
     "outputPrepend",
     "outputPrepend",
     "outputPrepend",
     "outputPrepend",
     "outputPrepend",
     "outputPrepend",
     "outputPrepend",
     "outputPrepend",
     "outputPrepend",
     "outputPrepend",
     "outputPrepend",
     "outputPrepend",
     "outputPrepend",
     "outputPrepend",
     "outputPrepend",
     "outputPrepend",
     "outputPrepend",
     "outputPrepend",
     "outputPrepend",
     "outputPrepend",
     "outputPrepend",
     "outputPrepend",
     "outputPrepend",
     "outputPrepend",
     "outputPrepend",
     "outputPrepend",
     "outputPrepend",
     "outputPrepend",
     "outputPrepend",
     "outputPrepend",
     "outputPrepend",
     "outputPrepend",
     "outputPrepend",
     "outputPrepend",
     "outputPrepend",
     "outputPrepend",
     "outputPrepend",
     "outputPrepend",
     "outputPrepend",
     "outputPrepend",
     "outputPrepend",
     "outputPrepend",
     "outputPrepend",
     "outputPrepend",
     "outputPrepend",
     "outputPrepend",
     "outputPrepend",
     "outputPrepend",
     "outputPrepend",
     "outputPrepend",
     "outputPrepend",
     "outputPrepend",
     "outputPrepend",
     "outputPrepend",
     "outputPrepend",
     "outputPrepend",
     "outputPrepend",
     "outputPrepend",
     "outputPrepend",
     "outputPrepend",
     "outputPrepend",
     "outputPrepend",
     "outputPrepend",
     "outputPrepend",
     "outputPrepend",
     "outputPrepend",
     "outputPrepend",
     "outputPrepend",
     "outputPrepend",
     "outputPrepend",
     "outputPrepend",
     "outputPrepend",
     "outputPrepend",
     "outputPrepend",
     "outputPrepend",
     "outputPrepend",
     "outputPrepend",
     "outputPrepend",
     "outputPrepend",
     "outputPrepend",
     "outputPrepend",
     "outputPrepend",
     "outputPrepend",
     "outputPrepend",
     "outputPrepend",
     "outputPrepend",
     "outputPrepend",
     "outputPrepend",
     "outputPrepend",
     "outputPrepend",
     "outputPrepend",
     "outputPrepend",
     "outputPrepend",
     "outputPrepend",
     "outputPrepend",
     "outputPrepend",
     "outputPrepend",
     "outputPrepend",
     "outputPrepend",
     "outputPrepend",
     "outputPrepend",
     "outputPrepend",
     "outputPrepend",
     "outputPrepend",
     "outputPrepend",
     "outputPrepend",
     "outputPrepend",
     "outputPrepend",
     "outputPrepend",
     "outputPrepend",
     "outputPrepend",
     "outputPrepend",
     "outputPrepend",
     "outputPrepend",
     "outputPrepend",
     "outputPrepend",
     "outputPrepend",
     "outputPrepend",
     "outputPrepend",
     "outputPrepend",
     "outputPrepend",
     "outputPrepend",
     "outputPrepend",
     "outputPrepend",
     "outputPrepend",
     "outputPrepend",
     "outputPrepend",
     "outputPrepend",
     "outputPrepend",
     "outputPrepend",
     "outputPrepend",
     "outputPrepend",
     "outputPrepend",
     "outputPrepend",
     "outputPrepend",
     "outputPrepend",
     "outputPrepend",
     "outputPrepend",
     "outputPrepend",
     "outputPrepend",
     "outputPrepend",
     "outputPrepend",
     "outputPrepend",
     "outputPrepend",
     "outputPrepend",
     "outputPrepend",
     "outputPrepend"
    ]
   },
   "outputs": [
    {
     "output_type": "stream",
     "name": "stdout",
     "text": "4c21d89be.png -> sesi-01/valid/Small-flowered Cranesbill/4c21d89be.png\ncopy original-image/plant-seedlings-classification/train\\Small-flowered Cranesbill\\50a132243.png -> sesi-01/valid/Small-flowered Cranesbill/50a132243.png\ncopy original-image/plant-seedlings-classification/train\\Small-flowered Cranesbill\\523dae399.png -> sesi-01/valid/Small-flowered Cranesbill/523dae399.png\ncopy original-image/plant-seedlings-classification/train\\Small-flowered Cranesbill\\55f1cad85.png -> sesi-01/valid/Small-flowered Cranesbill/55f1cad85.png\ncopy original-image/plant-seedlings-classification/train\\Small-flowered Cranesbill\\5b0a87abf.png -> sesi-01/valid/Small-flowered Cranesbill/5b0a87abf.png\ncopy original-image/plant-seedlings-classification/train\\Small-flowered Cranesbill\\5e5e9be4e.png -> sesi-01/valid/Small-flowered Cranesbill/5e5e9be4e.png\ncopy original-image/plant-seedlings-classification/train\\Small-flowered Cranesbill\\611b0a0ef.png -> sesi-01/valid/Small-flowered Cranesbill/611b0a0ef.png\ncopy original-image/plant-seedlings-classification/train\\Small-flowered Cranesbill\\63ede4ce5.png -> sesi-01/valid/Small-flowered Cranesbill/63ede4ce5.png\ncopy original-image/plant-seedlings-classification/train\\Small-flowered Cranesbill\\65d04573e.png -> sesi-01/valid/Small-flowered Cranesbill/65d04573e.png\ncopy original-image/plant-seedlings-classification/train\\Small-flowered Cranesbill\\6749e8eec.png -> sesi-01/valid/Small-flowered Cranesbill/6749e8eec.png\ncopy original-image/plant-seedlings-classification/train\\Small-flowered Cranesbill\\691b35920.png -> sesi-01/valid/Small-flowered Cranesbill/691b35920.png\ncopy original-image/plant-seedlings-classification/train\\Small-flowered Cranesbill\\6c7043cc5.png -> sesi-01/valid/Small-flowered Cranesbill/6c7043cc5.png\ncopy original-image/plant-seedlings-classification/train\\Small-flowered Cranesbill\\6d7fa83ff.png -> sesi-01/valid/Small-flowered Cranesbill/6d7fa83ff.png\ncopy original-image/plant-seedlings-classification/train\\Small-flowered Cranesbill\\70aa9e547.png -> sesi-01/valid/Small-flowered Cranesbill/70aa9e547.png\ncopy original-image/plant-seedlings-classification/train\\Small-flowered Cranesbill\\7405aee1b.png -> sesi-01/valid/Small-flowered Cranesbill/7405aee1b.png\ncopy original-image/plant-seedlings-classification/train\\Small-flowered Cranesbill\\758271672.png -> sesi-01/valid/Small-flowered Cranesbill/758271672.png\ncopy original-image/plant-seedlings-classification/train\\Small-flowered Cranesbill\\76e00aac1.png -> sesi-01/valid/Small-flowered Cranesbill/76e00aac1.png\ncopy original-image/plant-seedlings-classification/train\\Small-flowered Cranesbill\\789711110.png -> sesi-01/valid/Small-flowered Cranesbill/789711110.png\ncopy original-image/plant-seedlings-classification/train\\Small-flowered Cranesbill\\7adff29ac.png -> sesi-01/valid/Small-flowered Cranesbill/7adff29ac.png\ncopy original-image/plant-seedlings-classification/train\\Small-flowered Cranesbill\\7e8c89d30.png -> sesi-01/valid/Small-flowered Cranesbill/7e8c89d30.png\ncopy original-image/plant-seedlings-classification/train\\Small-flowered Cranesbill\\816965c05.png -> sesi-01/valid/Small-flowered Cranesbill/816965c05.png\ncopy original-image/plant-seedlings-classification/train\\Small-flowered Cranesbill\\845a0ec2c.png -> sesi-01/valid/Small-flowered Cranesbill/845a0ec2c.png\ncopy original-image/plant-seedlings-classification/train\\Small-flowered Cranesbill\\858547ab8.png -> sesi-01/valid/Small-flowered Cranesbill/858547ab8.png\ncopy original-image/plant-seedlings-classification/train\\Small-flowered Cranesbill\\8692526d1.png -> sesi-01/valid/Small-flowered Cranesbill/8692526d1.png\ncopy original-image/plant-seedlings-classification/train\\Small-flowered Cranesbill\\8788bc3cb.png -> sesi-01/valid/Small-flowered Cranesbill/8788bc3cb.png\ncopy original-image/plant-seedlings-classification/train\\Small-flowered Cranesbill\\89825ecdc.png -> sesi-01/valid/Small-flowered Cranesbill/89825ecdc.png\ncopy original-image/plant-seedlings-classification/train\\Small-flowered Cranesbill\\8e0da1b17.png -> sesi-01/valid/Small-flowered Cranesbill/8e0da1b17.png\ncopy original-image/plant-seedlings-classification/train\\Small-flowered Cranesbill\\8fd09f9a8.png -> sesi-01/valid/Small-flowered Cranesbill/8fd09f9a8.png\ncopy original-image/plant-seedlings-classification/train\\Small-flowered Cranesbill\\914aa19ae.png -> sesi-01/valid/Small-flowered Cranesbill/914aa19ae.png\ncopy original-image/plant-seedlings-classification/train\\Small-flowered Cranesbill\\92888379a.png -> sesi-01/valid/Small-flowered Cranesbill/92888379a.png\ncopy original-image/plant-seedlings-classification/train\\Small-flowered Cranesbill\\96bdc048d.png -> sesi-01/valid/Small-flowered Cranesbill/96bdc048d.png\ncopy original-image/plant-seedlings-classification/train\\Small-flowered Cranesbill\\985e72cfb.png -> sesi-01/valid/Small-flowered Cranesbill/985e72cfb.png\ncopy original-image/plant-seedlings-classification/train\\Small-flowered Cranesbill\\9dd370e79.png -> sesi-01/valid/Small-flowered Cranesbill/9dd370e79.png\ncopy original-image/plant-seedlings-classification/train\\Small-flowered Cranesbill\\9f87371b2.png -> sesi-01/valid/Small-flowered Cranesbill/9f87371b2.png\ncopy original-image/plant-seedlings-classification/train\\Small-flowered Cranesbill\\a0b1ab201.png -> sesi-01/valid/Small-flowered Cranesbill/a0b1ab201.png\ncopy original-image/plant-seedlings-classification/train\\Small-flowered Cranesbill\\a1db4ec9e.png -> sesi-01/valid/Small-flowered Cranesbill/a1db4ec9e.png\ncopy original-image/plant-seedlings-classification/train\\Small-flowered Cranesbill\\a40e87bcf.png -> sesi-01/valid/Small-flowered Cranesbill/a40e87bcf.png\ncopy original-image/plant-seedlings-classification/train\\Small-flowered Cranesbill\\a7864d8f3.png -> sesi-01/valid/Small-flowered Cranesbill/a7864d8f3.png\ncopy original-image/plant-seedlings-classification/train\\Small-flowered Cranesbill\\ac4df2b40.png -> sesi-01/valid/Small-flowered Cranesbill/ac4df2b40.png\ncopy original-image/plant-seedlings-classification/train\\Small-flowered Cranesbill\\ae9b5d027.png -> sesi-01/valid/Small-flowered Cranesbill/ae9b5d027.png\ncopy original-image/plant-seedlings-classification/train\\Small-flowered Cranesbill\\b0de6838e.png -> sesi-01/valid/Small-flowered Cranesbill/b0de6838e.png\ncopy original-image/plant-seedlings-classification/train\\Small-flowered Cranesbill\\b1d3ecd6c.png -> sesi-01/valid/Small-flowered Cranesbill/b1d3ecd6c.png\ncopy original-image/plant-seedlings-classification/train\\Small-flowered Cranesbill\\b53a00a5a.png -> sesi-01/valid/Small-flowered Cranesbill/b53a00a5a.png\ncopy original-image/plant-seedlings-classification/train\\Small-flowered Cranesbill\\b8ac37dcd.png -> sesi-01/valid/Small-flowered Cranesbill/b8ac37dcd.png\ncopy original-image/plant-seedlings-classification/train\\Small-flowered Cranesbill\\b9d09d85e.png -> sesi-01/valid/Small-flowered Cranesbill/b9d09d85e.png\ncopy original-image/plant-seedlings-classification/train\\Small-flowered Cranesbill\\bf60251b5.png -> sesi-01/valid/Small-flowered Cranesbill/bf60251b5.png\ncopy original-image/plant-seedlings-classification/train\\Small-flowered Cranesbill\\c2922dd4b.png -> sesi-01/valid/Small-flowered Cranesbill/c2922dd4b.png\ncopy original-image/plant-seedlings-classification/train\\Small-flowered Cranesbill\\c423a70c3.png -> sesi-01/valid/Small-flowered Cranesbill/c423a70c3.png\ncopy original-image/plant-seedlings-classification/train\\Small-flowered Cranesbill\\c74732b65.png -> sesi-01/valid/Small-flowered Cranesbill/c74732b65.png\ncopy original-image/plant-seedlings-classification/train\\Small-flowered Cranesbill\\cae4dac21.png -> sesi-01/valid/Small-flowered Cranesbill/cae4dac21.png\ncopy original-image/plant-seedlings-classification/train\\Small-flowered Cranesbill\\cbd4362a2.png -> sesi-01/valid/Small-flowered Cranesbill/cbd4362a2.png\ncopy original-image/plant-seedlings-classification/train\\Small-flowered Cranesbill\\ceaf23106.png -> sesi-01/valid/Small-flowered Cranesbill/ceaf23106.png\ncopy original-image/plant-seedlings-classification/train\\Small-flowered Cranesbill\\d1476bc9f.png -> sesi-01/valid/Small-flowered Cranesbill/d1476bc9f.png\ncopy original-image/plant-seedlings-classification/train\\Small-flowered Cranesbill\\d4887c996.png -> sesi-01/valid/Small-flowered Cranesbill/d4887c996.png\ncopy original-image/plant-seedlings-classification/train\\Small-flowered Cranesbill\\d6e8dd4ac.png -> sesi-01/valid/Small-flowered Cranesbill/d6e8dd4ac.png\ncopy original-image/plant-seedlings-classification/train\\Small-flowered Cranesbill\\d9ff280f1.png -> sesi-01/valid/Small-flowered Cranesbill/d9ff280f1.png\ncopy original-image/plant-seedlings-classification/train\\Small-flowered Cranesbill\\db3847e4e.png -> sesi-01/valid/Small-flowered Cranesbill/db3847e4e.png\ncopy original-image/plant-seedlings-classification/train\\Small-flowered Cranesbill\\e0a816c0b.png -> sesi-01/valid/Small-flowered Cranesbill/e0a816c0b.png\ncopy original-image/plant-seedlings-classification/train\\Small-flowered Cranesbill\\e29577320.png -> sesi-01/valid/Small-flowered Cranesbill/e29577320.png\ncopy original-image/plant-seedlings-classification/train\\Small-flowered Cranesbill\\e682d2f54.png -> sesi-01/valid/Small-flowered Cranesbill/e682d2f54.png\ncopy original-image/plant-seedlings-classification/train\\Small-flowered Cranesbill\\e909c5348.png -> sesi-01/valid/Small-flowered Cranesbill/e909c5348.png\ncopy original-image/plant-seedlings-classification/train\\Small-flowered Cranesbill\\ebbadc4c2.png -> sesi-01/valid/Small-flowered Cranesbill/ebbadc4c2.png\ncopy original-image/plant-seedlings-classification/train\\Small-flowered Cranesbill\\eea92edcc.png -> sesi-01/valid/Small-flowered Cranesbill/eea92edcc.png\ncopy original-image/plant-seedlings-classification/train\\Small-flowered Cranesbill\\f12648089.png -> sesi-01/valid/Small-flowered Cranesbill/f12648089.png\ncopy original-image/plant-seedlings-classification/train\\Small-flowered Cranesbill\\f43489876.png -> sesi-01/valid/Small-flowered Cranesbill/f43489876.png\ncopy original-image/plant-seedlings-classification/train\\Small-flowered Cranesbill\\f67796f86.png -> sesi-01/valid/Small-flowered Cranesbill/f67796f86.png\ncopy original-image/plant-seedlings-classification/train\\Small-flowered Cranesbill\\fae94cdba.png -> sesi-01/valid/Small-flowered Cranesbill/fae94cdba.png\ncopy original-image/plant-seedlings-classification/train\\Small-flowered Cranesbill\\fbecbb3b7.png -> sesi-01/valid/Small-flowered Cranesbill/fbecbb3b7.png\noriginal-image/plant-seedlings-classification/train\\Sugar beet\ncopy original-image/plant-seedlings-classification/train\\Sugar beet\\0026b7a30.png -> sesi-01/valid/Sugar beet/0026b7a30.png\ncopy original-image/plant-seedlings-classification/train\\Sugar beet\\01f145914.png -> sesi-01/valid/Sugar beet/01f145914.png\ncopy original-image/plant-seedlings-classification/train\\Sugar beet\\071c8beda.png -> sesi-01/valid/Sugar beet/071c8beda.png\ncopy original-image/plant-seedlings-classification/train\\Sugar beet\\0af59d58a.png -> sesi-01/valid/Sugar beet/0af59d58a.png\ncopy original-image/plant-seedlings-classification/train\\Sugar beet\\0f17ed2f7.png -> sesi-01/valid/Sugar beet/0f17ed2f7.png\ncopy original-image/plant-seedlings-classification/train\\Sugar beet\\102be9d35.png -> sesi-01/valid/Sugar beet/102be9d35.png\ncopy original-image/plant-seedlings-classification/train\\Sugar beet\\12c104178.png -> sesi-01/valid/Sugar beet/12c104178.png\ncopy original-image/plant-seedlings-classification/train\\Sugar beet\\138aec2c1.png -> sesi-01/valid/Sugar beet/138aec2c1.png\ncopy original-image/plant-seedlings-classification/train\\Sugar beet\\18c0f6b8f.png -> sesi-01/valid/Sugar beet/18c0f6b8f.png\ncopy original-image/plant-seedlings-classification/train\\Sugar beet\\1dd4326a8.png -> sesi-01/valid/Sugar beet/1dd4326a8.png\ncopy original-image/plant-seedlings-classification/train\\Sugar beet\\201cdcf53.png -> sesi-01/valid/Sugar beet/201cdcf53.png\ncopy original-image/plant-seedlings-classification/train\\Sugar beet\\25d60e020.png -> sesi-01/valid/Sugar beet/25d60e020.png\ncopy original-image/plant-seedlings-classification/train\\Sugar beet\\2982d5c21.png -> sesi-01/valid/Sugar beet/2982d5c21.png\ncopy original-image/plant-seedlings-classification/train\\Sugar beet\\2b51be287.png -> sesi-01/valid/Sugar beet/2b51be287.png\ncopy original-image/plant-seedlings-classification/train\\Sugar beet\\2ed22fddd.png -> sesi-01/valid/Sugar beet/2ed22fddd.png\ncopy original-image/plant-seedlings-classification/train\\Sugar beet\\30ff35160.png -> sesi-01/valid/Sugar beet/30ff35160.png\ncopy original-image/plant-seedlings-classification/train\\Sugar beet\\33ddbf2cc.png -> sesi-01/valid/Sugar beet/33ddbf2cc.png\ncopy original-image/plant-seedlings-classification/train\\Sugar beet\\3767ec44e.png -> sesi-01/valid/Sugar beet/3767ec44e.png\ncopy original-image/plant-seedlings-classification/train\\Sugar beet\\3b5b81454.png -> sesi-01/valid/Sugar beet/3b5b81454.png\ncopy original-image/plant-seedlings-classification/train\\Sugar beet\\4204cd689.png -> sesi-01/valid/Sugar beet/4204cd689.png\ncopy original-image/plant-seedlings-classification/train\\Sugar beet\\48011ba03.png -> sesi-01/valid/Sugar beet/48011ba03.png\ncopy original-image/plant-seedlings-classification/train\\Sugar beet\\4c81ff749.png -> sesi-01/valid/Sugar beet/4c81ff749.png\ncopy original-image/plant-seedlings-classification/train\\Sugar beet\\4e8f9790e.png -> sesi-01/valid/Sugar beet/4e8f9790e.png\ncopy original-image/plant-seedlings-classification/train\\Sugar beet\\4fd1fe7ac.png -> sesi-01/valid/Sugar beet/4fd1fe7ac.png\ncopy original-image/plant-seedlings-classification/train\\Sugar beet\\5582aca59.png -> sesi-01/valid/Sugar beet/5582aca59.png\ncopy original-image/plant-seedlings-classification/train\\Sugar beet\\5780239a1.png -> sesi-01/valid/Sugar beet/5780239a1.png\ncopy original-image/plant-seedlings-classification/train\\Sugar beet\\59ca13fa5.png -> sesi-01/valid/Sugar beet/59ca13fa5.png\ncopy original-image/plant-seedlings-classification/train\\Sugar beet\\5e10b3707.png -> sesi-01/valid/Sugar beet/5e10b3707.png\ncopy original-image/plant-seedlings-classification/train\\Sugar beet\\60884bb5f.png -> sesi-01/valid/Sugar beet/60884bb5f.png\ncopy original-image/plant-seedlings-classification/train\\Sugar beet\\657ba211d.png -> sesi-01/valid/Sugar beet/657ba211d.png\ncopy original-image/plant-seedlings-classification/train\\Sugar beet\\6724b064e.png -> sesi-01/valid/Sugar beet/6724b064e.png\ncopy original-image/plant-seedlings-classification/train\\Sugar beet\\6cd16cd21.png -> sesi-01/valid/Sugar beet/6cd16cd21.png\ncopy original-image/plant-seedlings-classification/train\\Sugar beet\\6d99bec4e.png -> sesi-01/valid/Sugar beet/6d99bec4e.png\ncopy original-image/plant-seedlings-classification/train\\Sugar beet\\702261484.png -> sesi-01/valid/Sugar beet/702261484.png\ncopy original-image/plant-seedlings-classification/train\\Sugar beet\\728642410.png -> sesi-01/valid/Sugar beet/728642410.png\ncopy original-image/plant-seedlings-classification/train\\Sugar beet\\77df9b3f4.png -> sesi-01/valid/Sugar beet/77df9b3f4.png\ncopy original-image/plant-seedlings-classification/train\\Sugar beet\\7ba30d202.png -> sesi-01/valid/Sugar beet/7ba30d202.png\ncopy original-image/plant-seedlings-classification/train\\Sugar beet\\7dcdd0825.png -> sesi-01/valid/Sugar beet/7dcdd0825.png\ncopy original-image/plant-seedlings-classification/train\\Sugar beet\\819c6ac1d.png -> sesi-01/valid/Sugar beet/819c6ac1d.png\ncopy original-image/plant-seedlings-classification/train\\Sugar beet\\85f8f5ae1.png -> sesi-01/valid/Sugar beet/85f8f5ae1.png\ncopy original-image/plant-seedlings-classification/train\\Sugar beet\\8738994fa.png -> sesi-01/valid/Sugar beet/8738994fa.png\ncopy original-image/plant-seedlings-classification/train\\Sugar beet\\87fce36af.png -> sesi-01/valid/Sugar beet/87fce36af.png\ncopy original-image/plant-seedlings-classification/train\\Sugar beet\\89dd2e861.png -> sesi-01/valid/Sugar beet/89dd2e861.png\ncopy original-image/plant-seedlings-classification/train\\Sugar beet\\8c215ce50.png -> sesi-01/valid/Sugar beet/8c215ce50.png\ncopy original-image/plant-seedlings-classification/train\\Sugar beet\\9031994fc.png -> sesi-01/valid/Sugar beet/9031994fc.png\ncopy original-image/plant-seedlings-classification/train\\Sugar beet\\92038f3df.png -> sesi-01/valid/Sugar beet/92038f3df.png\ncopy original-image/plant-seedlings-classification/train\\Sugar beet\\92eac7565.png -> sesi-01/valid/Sugar beet/92eac7565.png\ncopy original-image/plant-seedlings-classification/train\\Sugar beet\\978de5160.png -> sesi-01/valid/Sugar beet/978de5160.png\ncopy original-image/plant-seedlings-classification/train\\Sugar beet\\99a9b1567.png -> sesi-01/valid/Sugar beet/99a9b1567.png\ncopy original-image/plant-seedlings-classification/train\\Sugar beet\\9ee5dbda4.png -> sesi-01/valid/Sugar beet/9ee5dbda4.png\ncopy original-image/plant-seedlings-classification/train\\Sugar beet\\a63ac9b84.png -> sesi-01/valid/Sugar beet/a63ac9b84.png\ncopy original-image/plant-seedlings-classification/train\\Sugar beet\\a9daba74c.png -> sesi-01/valid/Sugar beet/a9daba74c.png\ncopy original-image/plant-seedlings-classification/train\\Sugar beet\\acf5eabef.png -> sesi-01/valid/Sugar beet/acf5eabef.png\ncopy original-image/plant-seedlings-classification/train\\Sugar beet\\b0d647301.png -> sesi-01/valid/Sugar beet/b0d647301.png\ncopy original-image/plant-seedlings-classification/train\\Sugar beet\\b44f9e223.png -> sesi-01/valid/Sugar beet/b44f9e223.png\ncopy original-image/plant-seedlings-classification/train\\Sugar beet\\b94efd26f.png -> sesi-01/valid/Sugar beet/b94efd26f.png\ncopy original-image/plant-seedlings-classification/train\\Sugar beet\\bd5d6e03f.png -> sesi-01/valid/Sugar beet/bd5d6e03f.png\ncopy original-image/plant-seedlings-classification/train\\Sugar beet\\c2c6d48e0.png -> sesi-01/valid/Sugar beet/c2c6d48e0.png\ncopy original-image/plant-seedlings-classification/train\\Sugar beet\\c4c87351c.png -> sesi-01/valid/Sugar beet/c4c87351c.png\ncopy original-image/plant-seedlings-classification/train\\Sugar beet\\c80847076.png -> sesi-01/valid/Sugar beet/c80847076.png\ncopy original-image/plant-seedlings-classification/train\\Sugar beet\\cc285d141.png -> sesi-01/valid/Sugar beet/cc285d141.png\ncopy original-image/plant-seedlings-classification/train\\Sugar beet\\d2b3e12d7.png -> sesi-01/valid/Sugar beet/d2b3e12d7.png\ncopy original-image/plant-seedlings-classification/train\\Sugar beet\\d42bcf4bd.png -> sesi-01/valid/Sugar beet/d42bcf4bd.png\ncopy original-image/plant-seedlings-classification/train\\Sugar beet\\d585fe0c7.png -> sesi-01/valid/Sugar beet/d585fe0c7.png\ncopy original-image/plant-seedlings-classification/train\\Sugar beet\\d7b6e4654.png -> sesi-01/valid/Sugar beet/d7b6e4654.png\ncopy original-image/plant-seedlings-classification/train\\Sugar beet\\dc351dfa4.png -> sesi-01/valid/Sugar beet/dc351dfa4.png\ncopy original-image/plant-seedlings-classification/train\\Sugar beet\\e0f7fb20b.png -> sesi-01/valid/Sugar beet/e0f7fb20b.png\ncopy original-image/plant-seedlings-classification/train\\Sugar beet\\e4a9bfee6.png -> sesi-01/valid/Sugar beet/e4a9bfee6.png\ncopy original-image/plant-seedlings-classification/train\\Sugar beet\\e7bed72a5.png -> sesi-01/valid/Sugar beet/e7bed72a5.png\ncopy original-image/plant-seedlings-classification/train\\Sugar beet\\e947502b4.png -> sesi-01/valid/Sugar beet/e947502b4.png\ncopy original-image/plant-seedlings-classification/train\\Sugar beet\\ea6cc9c1b.png -> sesi-01/valid/Sugar beet/ea6cc9c1b.png\ncopy original-image/plant-seedlings-classification/train\\Sugar beet\\ebcbefdad.png -> sesi-01/valid/Sugar beet/ebcbefdad.png\ncopy original-image/plant-seedlings-classification/train\\Sugar beet\\ef286fe28.png -> sesi-01/valid/Sugar beet/ef286fe28.png\ncopy original-image/plant-seedlings-classification/train\\Sugar beet\\f30abde8b.png -> sesi-01/valid/Sugar beet/f30abde8b.png\ncopy original-image/plant-seedlings-classification/train\\Sugar beet\\f72176e1a.png -> sesi-01/valid/Sugar beet/f72176e1a.png\ncopy original-image/plant-seedlings-classification/train\\Sugar beet\\f9a842f5f.png -> sesi-01/valid/Sugar beet/f9a842f5f.png\ncopy original-image/plant-seedlings-classification/train\\Sugar beet\\fc293eacb.png -> sesi-01/valid/Sugar beet/fc293eacb.png\n"
    }
   ],
   "source": [
    "#copy image files, split 80% training- 20% validation  \n",
    "\n",
    "original_data_dir=\"original-image/plant-seedlings-classification/train\"\n",
    "\n",
    "counter=0  \n",
    "for root, dirs, files in os.walk(original_data_dir): \n",
    "    print(root)\n",
    "    for file in files:  \n",
    "        fullfilename = os.path.join(root, file)        \n",
    "        basename=os.path.basename(fullfilename)  \n",
    "       #detect image classification from directory name  \n",
    "        split1=os.path.split(fullfilename)        \n",
    "        split2=os.path.split(split1[0])  \n",
    "        classname=str(split2[1])#classname for this particular file  \n",
    "        if((counter%5)==0): #copy validation  \n",
    "            dst_filename=valid_dir+\"/\"+classname+\"/\"+basename  \n",
    "            print(\"copy \"+fullfilename+\" -> \"+dst_filename)\n",
    "            shutil.copyfile(fullfilename,dst_filename)      \n",
    "        else:       #copy training    \n",
    "            dst_filename=train_dir+\"/\"+classname+\"/\"+basename  \n",
    "            shutil.copyfile(fullfilename,dst_filename)      \n",
    "        counter=counter+1  "
   ]
  },
  {
   "cell_type": "code",
   "execution_count": 7,
   "metadata": {},
   "outputs": [],
   "source": [
    "#prepare model    \n",
    "img_width=224\n",
    "img_height=224\n",
    "\n",
    "cnn_notop=keras.applications.nasnet.NASNetMobile(input_shape=(img_width, img_height, 3)\n",
    "                                                 , include_top=False\n",
    "                                                 , weights='imagenet' # menggunakan transfer learning\n",
    "#                                                 , weights=None # tanpa transfer learning\n",
    "                                                 , input_tensor=None\n",
    "                                                 , pooling=None)\n",
    ""
   ]
  },
  {
   "cell_type": "code",
   "execution_count": 8,
   "metadata": {},
   "outputs": [],
   "source": [
    "x = cnn_notop.output  \n",
    "x = GlobalAveragePooling2D()(x)      \n",
    "x = Dense(1024, activation='relu')(x)      \n",
    "x = BatchNormalization()(x)  \n",
    "predictions = Dense(12, activation='softmax')(x)  \n",
    "the_model = Model(cnn_notop.input, predictions)  "
   ]
  },
  {
   "cell_type": "code",
   "execution_count": 38,
   "metadata": {},
   "outputs": [
    {
     "output_type": "error",
     "ename": "SyntaxError",
     "evalue": "invalid syntax (<ipython-input-38-bea67546a509>, line 2)",
     "traceback": [
      "\u001b[1;36m  File \u001b[1;32m\"<ipython-input-38-bea67546a509>\"\u001b[1;36m, line \u001b[1;32m2\u001b[0m\n\u001b[1;33m    pip install pillow\u001b[0m\n\u001b[1;37m              ^\u001b[0m\n\u001b[1;31mSyntaxError\u001b[0m\u001b[1;31m:\u001b[0m invalid syntax\n"
     ]
    }
   ],
   "source": [
    "#training\n",
    "from IPython.display import display\n",
    "from PIL import Image  \n",
    "learning_rate = 0.0001   \n",
    "logfile = session + '-train' + '.log'   \n",
    "batch_size=32\n",
    "nbr_epochs=100\n",
    "print(\"training  directory: \"+train_dir)  \n",
    "print(\"valication directory: \"+valid_dir)  \n",
    "optimizer = SGD(lr=learning_rate, momentum=0.9, decay=0.0, nesterov=True)  \n",
    "the_model.compile(loss='categorical_crossentropy', optimizer=optimizer, metrics=['accuracy'])  \n",
    "csv_logger = CSVLogger(logfile, append=True)  \n",
    "early_stopping = EarlyStopping(monitor='val_loss', min_delta=0, patience=10, verbose=1, mode='auto')  \n",
    "best_model_filename=session+'-weights.{epoch:02d}-{val_loss:.2f}.h5'   \n",
    "best_model = ModelCheckpoint(best_model_filename, monitor='val_accuracy', verbose=1, save_best_only=True)  \n",
    "  # this is the augmentation configuration we will use for training  \n",
    "train_datagen = ImageDataGenerator(  \n",
    "    rescale=1. / 255,  \n",
    "    shear_range=0.2,  \n",
    "    zoom_range=0.2,  \n",
    "    rotation_range=90,  \n",
    "    width_shift_range=0.2,  \n",
    "    height_shift_range=0.2,  \n",
    "    horizontal_flip=True,  \n",
    "    vertical_flip=True)  \n",
    "val_datagen = ImageDataGenerator(rescale=1. / 255)  \n",
    "print('prepare train generator')   \n",
    "train_generator = train_datagen.flow_from_directory(  \n",
    "    train_dir,  \n",
    "    target_size=(img_width, img_height),  \n",
    "    batch_size=batch_size,  \n",
    "    shuffle=True,  \n",
    "    classes=classnames,  \n",
    "    class_mode='categorical')  \n",
    "print('prepare validation generator')   \n",
    "validation_generator = val_datagen.flow_from_directory(  \n",
    "    valid_dir,  \n",
    "    target_size=(img_width, img_height),  \n",
    "    batch_size=batch_size,  \n",
    "    shuffle=True,  \n",
    "    classes=classnames,  \n",
    "    class_mode='categorical')  \n",
    "print('fit generator')   \n",
    "the_model.fit(  \n",
    "    x=train_generator,  \n",
    "    epochs=nbr_epochs,  \n",
    "    verbose=1,  \n",
    "    validation_data=validation_generator,\n",
    "    callbacks=[best_model, csv_logger, early_stopping]\n",
    ") "
   ]
  },
  {
   "cell_type": "code",
   "execution_count": 22,
   "metadata": {},
   "outputs": [
    {
     "output_type": "error",
     "ename": "FileNotFoundError",
     "evalue": "[WinError 3] The system cannot find the path specified: 'sesi-01/test/'",
     "traceback": [
      "\u001b[1;31m---------------------------------------------------------------------------\u001b[0m",
      "\u001b[1;31mFileNotFoundError\u001b[0m                         Traceback (most recent call last)",
      "\u001b[1;32m<ipython-input-22-4579e6578b47>\u001b[0m in \u001b[0;36m<module>\u001b[1;34m\u001b[0m\n\u001b[0;32m     15\u001b[0m     \u001b[0mshuffle\u001b[0m \u001b[1;33m=\u001b[0m \u001b[1;32mFalse\u001b[0m\u001b[1;33m,\u001b[0m \u001b[1;31m# no shuffling, since filenames must match predictions. Shuffling may change file sequence\u001b[0m\u001b[1;33m\u001b[0m\u001b[1;33m\u001b[0m\u001b[0m\n\u001b[0;32m     16\u001b[0m     \u001b[0mclasses\u001b[0m \u001b[1;33m=\u001b[0m \u001b[1;32mNone\u001b[0m\u001b[1;33m,\u001b[0m \u001b[1;31m#\u001b[0m\u001b[1;33m\u001b[0m\u001b[1;33m\u001b[0m\u001b[0m\n\u001b[1;32m---> 17\u001b[1;33m     class_mode = None)   \n\u001b[0m\u001b[0;32m     18\u001b[0m \u001b[0mtest_image_list\u001b[0m \u001b[1;33m=\u001b[0m \u001b[0mtest_generator\u001b[0m\u001b[1;33m.\u001b[0m\u001b[0mfilenames\u001b[0m\u001b[1;33m\u001b[0m\u001b[1;33m\u001b[0m\u001b[0m\n\u001b[0;32m     19\u001b[0m \u001b[0mprint\u001b[0m\u001b[1;33m(\u001b[0m\u001b[1;34m'Loading model and weights'\u001b[0m\u001b[1;33m)\u001b[0m\u001b[1;33m\u001b[0m\u001b[1;33m\u001b[0m\u001b[0m\n",
      "\u001b[1;32m~\\Anaconda3\\envs\\tensorflow_env\\lib\\site-packages\\keras_preprocessing\\image\\image_data_generator.py\u001b[0m in \u001b[0;36mflow_from_directory\u001b[1;34m(self, directory, target_size, color_mode, classes, class_mode, batch_size, shuffle, seed, save_to_dir, save_prefix, save_format, follow_links, subset, interpolation)\u001b[0m\n\u001b[0;32m    538\u001b[0m             \u001b[0mfollow_links\u001b[0m\u001b[1;33m=\u001b[0m\u001b[0mfollow_links\u001b[0m\u001b[1;33m,\u001b[0m\u001b[1;33m\u001b[0m\u001b[1;33m\u001b[0m\u001b[0m\n\u001b[0;32m    539\u001b[0m             \u001b[0msubset\u001b[0m\u001b[1;33m=\u001b[0m\u001b[0msubset\u001b[0m\u001b[1;33m,\u001b[0m\u001b[1;33m\u001b[0m\u001b[1;33m\u001b[0m\u001b[0m\n\u001b[1;32m--> 540\u001b[1;33m             \u001b[0minterpolation\u001b[0m\u001b[1;33m=\u001b[0m\u001b[0minterpolation\u001b[0m\u001b[1;33m\u001b[0m\u001b[1;33m\u001b[0m\u001b[0m\n\u001b[0m\u001b[0;32m    541\u001b[0m         )\n\u001b[0;32m    542\u001b[0m \u001b[1;33m\u001b[0m\u001b[0m\n",
      "\u001b[1;32m~\\Anaconda3\\envs\\tensorflow_env\\lib\\site-packages\\keras_preprocessing\\image\\directory_iterator.py\u001b[0m in \u001b[0;36m__init__\u001b[1;34m(self, directory, image_data_generator, target_size, color_mode, classes, class_mode, batch_size, shuffle, seed, data_format, save_to_dir, save_prefix, save_format, follow_links, subset, interpolation, dtype)\u001b[0m\n\u001b[0;32m    104\u001b[0m         \u001b[1;32mif\u001b[0m \u001b[1;32mnot\u001b[0m \u001b[0mclasses\u001b[0m\u001b[1;33m:\u001b[0m\u001b[1;33m\u001b[0m\u001b[1;33m\u001b[0m\u001b[0m\n\u001b[0;32m    105\u001b[0m             \u001b[0mclasses\u001b[0m \u001b[1;33m=\u001b[0m \u001b[1;33m[\u001b[0m\u001b[1;33m]\u001b[0m\u001b[1;33m\u001b[0m\u001b[1;33m\u001b[0m\u001b[0m\n\u001b[1;32m--> 106\u001b[1;33m             \u001b[1;32mfor\u001b[0m \u001b[0msubdir\u001b[0m \u001b[1;32min\u001b[0m \u001b[0msorted\u001b[0m\u001b[1;33m(\u001b[0m\u001b[0mos\u001b[0m\u001b[1;33m.\u001b[0m\u001b[0mlistdir\u001b[0m\u001b[1;33m(\u001b[0m\u001b[0mdirectory\u001b[0m\u001b[1;33m)\u001b[0m\u001b[1;33m)\u001b[0m\u001b[1;33m:\u001b[0m\u001b[1;33m\u001b[0m\u001b[1;33m\u001b[0m\u001b[0m\n\u001b[0m\u001b[0;32m    107\u001b[0m                 \u001b[1;32mif\u001b[0m \u001b[0mos\u001b[0m\u001b[1;33m.\u001b[0m\u001b[0mpath\u001b[0m\u001b[1;33m.\u001b[0m\u001b[0misdir\u001b[0m\u001b[1;33m(\u001b[0m\u001b[0mos\u001b[0m\u001b[1;33m.\u001b[0m\u001b[0mpath\u001b[0m\u001b[1;33m.\u001b[0m\u001b[0mjoin\u001b[0m\u001b[1;33m(\u001b[0m\u001b[0mdirectory\u001b[0m\u001b[1;33m,\u001b[0m \u001b[0msubdir\u001b[0m\u001b[1;33m)\u001b[0m\u001b[1;33m)\u001b[0m\u001b[1;33m:\u001b[0m\u001b[1;33m\u001b[0m\u001b[1;33m\u001b[0m\u001b[0m\n\u001b[0;32m    108\u001b[0m                     \u001b[0mclasses\u001b[0m\u001b[1;33m.\u001b[0m\u001b[0mappend\u001b[0m\u001b[1;33m(\u001b[0m\u001b[0msubdir\u001b[0m\u001b[1;33m)\u001b[0m\u001b[1;33m\u001b[0m\u001b[1;33m\u001b[0m\u001b[0m\n",
      "\u001b[1;31mFileNotFoundError\u001b[0m: [WinError 3] The system cannot find the path specified: 'sesi-01/test/'"
     ]
    }
   ],
   "source": [
    "#prediction   \n",
    "batch_size=4  \n",
    "nbr_test_samples=794    \n",
    "#choose weights file manually   \n",
    "#weights_path = 'simpleNASNet-weights.10-0.17.h5' # choose file manually, filename may be different  \n",
    "#weights_path = 'sesi-01-weights.08-0.58.h5'\n",
    "weights_path = 'sesi-01-weights.07-2.48.h5'\n",
    "test_data_dir = session+'/test/'   \n",
    "\n",
    "test_datagen = ImageDataGenerator(rescale=1./255)   \n",
    "test_generator = test_datagen.flow_from_directory(   \n",
    "    directory=test_data_dir,   \n",
    "    target_size=(img_width, img_height),   \n",
    "    batch_size=batch_size,   \n",
    "    shuffle = False, # no shuffling, since filenames must match predictions. Shuffling may change file sequence   \n",
    "    classes = None, #    \n",
    "    class_mode = None)   \n",
    "test_image_list = test_generator.filenames   \n",
    "print('Loading model and weights')   \n",
    "predict_model = load_model(weights_path)   \n",
    "#predict_model = the_model\n",
    ""
   ]
  },
  {
   "cell_type": "code",
   "execution_count": 23,
   "metadata": {},
   "outputs": [
    {
     "output_type": "error",
     "ename": "NameError",
     "evalue": "name 'predict_model' is not defined",
     "traceback": [
      "\u001b[1;31m---------------------------------------------------------------------------\u001b[0m",
      "\u001b[1;31mNameError\u001b[0m                                 Traceback (most recent call last)",
      "\u001b[1;32m<ipython-input-23-d91f1a5ede80>\u001b[0m in \u001b[0;36m<module>\u001b[1;34m\u001b[0m\n\u001b[1;32m----> 1\u001b[1;33m \u001b[0mpredict_model\u001b[0m\u001b[1;33m.\u001b[0m\u001b[0msummary\u001b[0m\u001b[1;33m(\u001b[0m\u001b[1;33m)\u001b[0m\u001b[1;33m\u001b[0m\u001b[1;33m\u001b[0m\u001b[0m\n\u001b[0m",
      "\u001b[1;31mNameError\u001b[0m: name 'predict_model' is not defined"
     ]
    }
   ],
   "source": [
    "predict_model.summary() "
   ]
  },
  {
   "cell_type": "code",
   "execution_count": 24,
   "metadata": {},
   "outputs": [
    {
     "output_type": "stream",
     "name": "stdout",
     "text": "Begin to predict for testing data ...\n"
    },
    {
     "output_type": "error",
     "ename": "NameError",
     "evalue": "name 'predict_model' is not defined",
     "traceback": [
      "\u001b[1;31m---------------------------------------------------------------------------\u001b[0m",
      "\u001b[1;31mNameError\u001b[0m                                 Traceback (most recent call last)",
      "\u001b[1;32m<ipython-input-24-2ca29d36ef89>\u001b[0m in \u001b[0;36m<module>\u001b[1;34m\u001b[0m\n\u001b[0;32m      1\u001b[0m \u001b[0mprint\u001b[0m\u001b[1;33m(\u001b[0m\u001b[1;34m'Begin to predict for testing data ...'\u001b[0m\u001b[1;33m)\u001b[0m\u001b[1;33m\u001b[0m\u001b[1;33m\u001b[0m\u001b[0m\n\u001b[1;32m----> 2\u001b[1;33m \u001b[0mpredictions\u001b[0m \u001b[1;33m=\u001b[0m \u001b[0mpredict_model\u001b[0m\u001b[1;33m.\u001b[0m\u001b[0mpredict\u001b[0m\u001b[1;33m(\u001b[0m\u001b[0mx\u001b[0m\u001b[1;33m=\u001b[0m\u001b[0mtest_generator\u001b[0m\u001b[1;33m,\u001b[0m \u001b[0msteps\u001b[0m\u001b[1;33m=\u001b[0m\u001b[0mnbr_test_samples\u001b[0m\u001b[1;33m/\u001b[0m\u001b[0mbatch_size\u001b[0m\u001b[1;33m,\u001b[0m\u001b[0mverbose\u001b[0m\u001b[1;33m=\u001b[0m\u001b[1;36m1\u001b[0m\u001b[1;33m)\u001b[0m\u001b[1;33m\u001b[0m\u001b[1;33m\u001b[0m\u001b[0m\n\u001b[0m\u001b[0;32m      3\u001b[0m \u001b[0mnp\u001b[0m\u001b[1;33m.\u001b[0m\u001b[0msavetxt\u001b[0m\u001b[1;33m(\u001b[0m\u001b[0msession\u001b[0m\u001b[1;33m+\u001b[0m\u001b[1;34m'-predictions.txt'\u001b[0m\u001b[1;33m,\u001b[0m \u001b[0mpredictions\u001b[0m\u001b[1;33m)\u001b[0m \u001b[1;31m# store prediction matrix, for later analysis if necessary\u001b[0m\u001b[1;33m\u001b[0m\u001b[1;33m\u001b[0m\u001b[0m\n",
      "\u001b[1;31mNameError\u001b[0m: name 'predict_model' is not defined"
     ]
    }
   ],
   "source": [
    "print('Begin to predict for testing data ...')   \n",
    "predictions = predict_model.predict(x=test_generator, steps=nbr_test_samples/batch_size,verbose=1)   \n",
    "np.savetxt(session+'-predictions.txt', predictions) # store prediction matrix, for later analysis if necessary   "
   ]
  },
  {
   "cell_type": "code",
   "execution_count": 25,
   "metadata": {},
   "outputs": [
    {
     "output_type": "stream",
     "name": "stdout",
     "text": "Begin to write submission file:sesi-01-submit.csv\n"
    },
    {
     "output_type": "error",
     "ename": "NameError",
     "evalue": "name 'test_image_list' is not defined",
     "traceback": [
      "\u001b[1;31m---------------------------------------------------------------------------\u001b[0m",
      "\u001b[1;31mNameError\u001b[0m                                 Traceback (most recent call last)",
      "\u001b[1;32m<ipython-input-25-b61c28fb5ff5>\u001b[0m in \u001b[0;36m<module>\u001b[1;34m\u001b[0m\n\u001b[0;32m      4\u001b[0m \u001b[0mf_submit\u001b[0m \u001b[1;33m=\u001b[0m \u001b[0mopen\u001b[0m\u001b[1;33m(\u001b[0m\u001b[0msubmission_file\u001b[0m\u001b[1;33m,\u001b[0m \u001b[1;34m'w'\u001b[0m\u001b[1;33m)\u001b[0m\u001b[1;33m\u001b[0m\u001b[1;33m\u001b[0m\u001b[0m\n\u001b[0;32m      5\u001b[0m \u001b[0mf_submit\u001b[0m\u001b[1;33m.\u001b[0m\u001b[0mwrite\u001b[0m\u001b[1;33m(\u001b[0m\u001b[1;34m'file,species\\n'\u001b[0m\u001b[1;33m)\u001b[0m\u001b[1;33m\u001b[0m\u001b[1;33m\u001b[0m\u001b[0m\n\u001b[1;32m----> 6\u001b[1;33m \u001b[1;32mfor\u001b[0m \u001b[0mi\u001b[0m\u001b[1;33m,\u001b[0m \u001b[0mimage_name\u001b[0m \u001b[1;32min\u001b[0m \u001b[0menumerate\u001b[0m\u001b[1;33m(\u001b[0m\u001b[0mtest_image_list\u001b[0m\u001b[1;33m)\u001b[0m\u001b[1;33m:\u001b[0m\u001b[1;33m\u001b[0m\u001b[1;33m\u001b[0m\u001b[0m\n\u001b[0m\u001b[0;32m      7\u001b[0m   \u001b[1;31m# find maximum prediction of 12\u001b[0m\u001b[1;33m\u001b[0m\u001b[1;33m\u001b[0m\u001b[1;33m\u001b[0m\u001b[0m\n\u001b[0;32m      8\u001b[0m   \u001b[0mmax_index\u001b[0m\u001b[1;33m=\u001b[0m\u001b[1;36m0\u001b[0m\u001b[1;33m\u001b[0m\u001b[1;33m\u001b[0m\u001b[0m\n",
      "\u001b[1;31mNameError\u001b[0m: name 'test_image_list' is not defined"
     ]
    }
   ],
   "source": [
    "#submission  \n",
    "submission_file=session+'-submit.csv'   \n",
    "print('Begin to write submission file:'+submission_file)   \n",
    "f_submit = open(submission_file, 'w')   \n",
    "f_submit.write('file,species\\n')   \n",
    "for i, image_name in enumerate(test_image_list):   \n",
    "  # find maximum prediction of 12  \n",
    "  max_index=0  \n",
    "  max_value=0  \n",
    "  for x in range(0, 12):  \n",
    "    if(predictions[i][x]>max_value):  \n",
    "      max_value=predictions[i][x]  \n",
    "      max_index=x  \n",
    "  basename=os.path.basename(image_name)   \n",
    "  prediction_class = classnames[max_index] # get predictions from array     \n",
    "  f_submit.write('%s,%s\\n' % (basename, prediction_class))   \n",
    "f_submit.close()   \n",
    "print('Finished write submission file ..')  "
   ]
  },
  {
   "cell_type": "code",
   "execution_count": null,
   "metadata": {},
   "outputs": [],
   "source": []
  }
 ],
 "metadata": {
  "kernelspec": {
   "display_name": "Python 3",
   "language": "python",
   "name": "python3"
  },
  "language_info": {
   "codemirror_mode": {
    "name": "ipython",
    "version": 3
   },
   "file_extension": ".py",
   "mimetype": "text/x-python",
   "name": "python",
   "nbconvert_exporter": "python",
   "pygments_lexer": "ipython3",
   "version": "3.7.7-final"
  }
 },
 "nbformat": 4,
 "nbformat_minor": 2
}